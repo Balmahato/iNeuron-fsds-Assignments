{
 "cells": [
  {
   "cell_type": "markdown",
   "id": "e966a58b",
   "metadata": {},
   "source": [
    "#  Assinment 3"
   ]
  },
  {
   "cell_type": "markdown",
   "id": "6829a5bc",
   "metadata": {},
   "source": [
    "1 Why are functions advantageous to have in your programs?"
   ]
  },
  {
   "cell_type": "markdown",
   "id": "c90bcfc4",
   "metadata": {},
   "source": [
    "Ans-:Functions reduce the need for duplicate code. This makes programs shorter, easier to read and easier to update. The main advantage of functions is code Reusability."
   ]
  },
  {
   "cell_type": "markdown",
   "id": "6b219098",
   "metadata": {},
   "source": [
    "2 When does the code in a function run: when its specified or when it's called?"
   ]
  },
  {
   "cell_type": "markdown",
   "id": "6d924f61",
   "metadata": {},
   "source": [
    "Ans-: The code in a function executes when the function is called not when the function is specified."
   ]
  },
  {
   "cell_type": "markdown",
   "id": "79ad2fe2",
   "metadata": {},
   "source": [
    "3 What statement creates a function?"
   ]
  },
  {
   "cell_type": "markdown",
   "id": "194471e0",
   "metadata": {},
   "source": [
    "Ans-:The def statement defines a function\n",
    "\n",
    "\n",
    "syntax of function"
   ]
  },
  {
   "cell_type": "markdown",
   "id": "a4269a03",
   "metadata": {},
   "source": [
    "def function_name(parameters): \"\"\"doc string\"\"\" -----function body ----------function body --------return value"
   ]
  },
  {
   "cell_type": "markdown",
   "id": "d2fc94da",
   "metadata": {},
   "source": [
    "4 What is the difference between a function and a function call?"
   ]
  },
  {
   "cell_type": "markdown",
   "id": "9e5d59bd",
   "metadata": {},
   "source": [
    "Ans-:A function is procedure to achive a particular result. while function call is using this function to achive that task.Using a function to do a particular task any point in program is called a function call"
   ]
  },
  {
   "cell_type": "markdown",
   "id": "51bf5eed",
   "metadata": {},
   "source": [
    "5 How many global scope are there in a python program? how many local scope?"
   ]
  },
  {
   "cell_type": "markdown",
   "id": "670126f0",
   "metadata": {},
   "source": [
    "Ans-:There is one global scope and a local scope is created whenever a function is called"
   ]
  },
  {
   "cell_type": "markdown",
   "id": "c3c6073d",
   "metadata": {},
   "source": [
    "6 What happens to variable in a local scope when the function call returns"
   ]
  },
  {
   "cell_type": "markdown",
   "id": "8e29caee",
   "metadata": {},
   "source": [
    "Ans-: When a function return the local scope is destroyed, and all the variable in it are forgotten"
   ]
  },
  {
   "cell_type": "markdown",
   "id": "82785f06",
   "metadata": {},
   "source": [
    "7 What is the concept of a return value? is it possible to have a return value in an expression?\n"
   ]
  },
  {
   "cell_type": "markdown",
   "id": "ff88888d",
   "metadata": {},
   "source": [
    "Ans-: A return value is the value that a function call evaluates to. Like any value return value can be used as partof an expression"
   ]
  },
  {
   "cell_type": "markdown",
   "id": "a56542f7",
   "metadata": {},
   "source": [
    "8 If a function does not have a return statement, What is the return value of a call to that function?\n"
   ]
  },
  {
   "cell_type": "markdown",
   "id": "63d3e5db",
   "metadata": {},
   "source": [
    "Ans-: If there is no return statement for a function its return value is None"
   ]
  },
  {
   "cell_type": "markdown",
   "id": "ce2fdd60",
   "metadata": {},
   "source": [
    "9 How do you make a function variable refer to the global variable?"
   ]
  },
  {
   "cell_type": "markdown",
   "id": "2e0af9ba",
   "metadata": {},
   "source": [
    "Ans-: A global ststement will force a variable  in a function to refer to the global variable. If you want to refer to a variable in a function you can use \n",
    "    the global keyword to declare which variable are global"
   ]
  },
  {
   "cell_type": "markdown",
   "id": "4847dd9b",
   "metadata": {},
   "source": [
    "10 what is the data type of None?"
   ]
  },
  {
   "cell_type": "markdown",
   "id": "3b696f57",
   "metadata": {},
   "source": [
    "Ans-:The data type of None is None type"
   ]
  },
  {
   "cell_type": "markdown",
   "id": "e825745e",
   "metadata": {},
   "source": [
    "11  What does the sentance import areallyourpetsnamederic do?"
   ]
  },
  {
   "cell_type": "markdown",
   "id": "ac21bb67",
   "metadata": {},
   "source": [
    "Ans-: That import statement i mports a module named areallyourpetsnamederic"
   ]
  },
  {
   "cell_type": "markdown",
   "id": "7bea60e4",
   "metadata": {},
   "source": [
    "12 If you had a bacon()feature in a spam module, What would you call it after importing spam?\n"
   ]
  },
  {
   "cell_type": "markdown",
   "id": "0769968a",
   "metadata": {},
   "source": [
    "Ans-: This function can be called with spam.bacon()"
   ]
  },
  {
   "cell_type": "markdown",
   "id": "3c4c8b2d",
   "metadata": {},
   "source": [
    "13 What can you do to save a programme from crashing if it encounters as error?"
   ]
  },
  {
   "cell_type": "markdown",
   "id": "bea70e01",
   "metadata": {},
   "source": [
    "Ans-: Place the line of code that might cause an error in a try calause and use except block to handle the error   "
   ]
  },
  {
   "cell_type": "markdown",
   "id": "8e49f74d",
   "metadata": {},
   "source": [
    "14 What is the purpose of the try clause? What is the purpose of the except clause?\n"
   ]
  },
  {
   "cell_type": "markdown",
   "id": "72784ece",
   "metadata": {},
   "source": [
    "Ans-: The code that could potentially cause as error goes in the try clause. The code that executes if an error happens goes in the except clause"
   ]
  },
  {
   "cell_type": "code",
   "execution_count": null,
   "id": "c68f8b89",
   "metadata": {},
   "outputs": [],
   "source": []
  }
 ],
 "metadata": {
  "kernelspec": {
   "display_name": "Python 3 (ipykernel)",
   "language": "python",
   "name": "python3"
  },
  "language_info": {
   "codemirror_mode": {
    "name": "ipython",
    "version": 3
   },
   "file_extension": ".py",
   "mimetype": "text/x-python",
   "name": "python",
   "nbconvert_exporter": "python",
   "pygments_lexer": "ipython3",
   "version": "3.9.12"
  }
 },
 "nbformat": 4,
 "nbformat_minor": 5
}
